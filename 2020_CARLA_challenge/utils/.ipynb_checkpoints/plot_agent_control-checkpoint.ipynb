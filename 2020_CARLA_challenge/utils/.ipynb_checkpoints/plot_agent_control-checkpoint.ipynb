{
 "cells": [
  {
   "cell_type": "code",
   "execution_count": 3,
   "metadata": {},
   "outputs": [],
   "source": [
    "import pandas as pd\n",
    "import numpy as np\n",
    "import matplotlib.pyplot as plt"
   ]
  },
  {
   "cell_type": "code",
   "execution_count": 4,
   "metadata": {},
   "outputs": [],
   "source": [
    "# matplotlib interactive\n",
    "%matplotlib widget"
   ]
  },
  {
   "cell_type": "markdown",
   "metadata": {},
   "source": [
    "### Route 11 is a mix of urban and highway driving"
   ]
  },
  {
   "cell_type": "code",
   "execution_count": 5,
   "metadata": {},
   "outputs": [],
   "source": [
    "single_ads = \"/home/sheng/Workspace/diverseAV/agents/2020_CARLA_challenge/control_logs_rr_mode/routes_training-route_11-20201104-160145_single.csv\"\n",
    "rr_ads = \"/home/sheng/Workspace/diverseAV/agents/2020_CARLA_challenge/control_logs_rr_mode/routes_training-route_11-20201104-063906_dual.csv\""
   ]
  },
  {
   "cell_type": "code",
   "execution_count": 6,
   "metadata": {},
   "outputs": [],
   "source": [
    "single_ads_df = pd.read_csv(single_ads)\n",
    "rr_ads_df = pd.read_csv(rr_ads)"
   ]
  },
  {
   "cell_type": "markdown",
   "metadata": {},
   "source": [
    "### Consistency between two agents in RR mode"
   ]
  },
  {
   "cell_type": "code",
   "execution_count": 7,
   "metadata": {},
   "outputs": [],
   "source": [
    "rr_agent0_dict = (rr_ads_df[rr_ads_df['agent_id'] == 0]).to_dict()\n",
    "rr_agent1_dict = (rr_ads_df[rr_ads_df['agent_id'] == 1]).to_dict()"
   ]
  },
  {
   "cell_type": "code",
   "execution_count": 8,
   "metadata": {},
   "outputs": [
    {
     "name": "stderr",
     "output_type": "stream",
     "text": [
      "/home/sheng/.local/lib/python3.6/site-packages/matplotlib/__init__.py:880: MatplotlibDeprecationWarning: \n",
      "nbagg.transparent\n",
      "  version, key, obj_type=\"rcparam\", alternative=alt_key)\n"
     ]
    },
    {
     "data": {
      "application/vnd.jupyter.widget-view+json": {
       "model_id": "7e4f7e15b0c7494e974566faac210b24",
       "version_major": 2,
       "version_minor": 0
      },
      "text/plain": [
       "Canvas(toolbar=Toolbar(toolitems=[('Home', 'Reset original view', 'home', 'home'), ('Back', 'Back to previous …"
      ]
     },
     "metadata": {},
     "output_type": "display_data"
    }
   ],
   "source": [
    "# steering\n",
    "plt.figure(dpi=100, figsize=(10, 5))\n",
    "rr_agent0_points = [i for i in range(len(rr_agent0_dict[\"agent_id\"]))]\n",
    "rr_agent1_points = [i for i in range(len(rr_agent1_dict[\"agent_id\"]))]\n",
    "plt.plot(rr_agent0_points, rr_agent0_dict[\"steer\"].values())\n",
    "plt.plot(rr_agent1_points, rr_agent1_dict[\"steer\"].values(), alpha=0.7)\n",
    "plt.show()"
   ]
  },
  {
   "cell_type": "code",
   "execution_count": 9,
   "metadata": {},
   "outputs": [
    {
     "data": {
      "application/vnd.jupyter.widget-view+json": {
       "model_id": "97a85c127cad410183d8d6ceb4eb5759",
       "version_major": 2,
       "version_minor": 0
      },
      "text/plain": [
       "Canvas(toolbar=Toolbar(toolitems=[('Home', 'Reset original view', 'home', 'home'), ('Back', 'Back to previous …"
      ]
     },
     "metadata": {},
     "output_type": "display_data"
    }
   ],
   "source": [
    "# throttle\n",
    "plt.figure(dpi=100, figsize=(10, 5))\n",
    "rr_agent0_points = [i for i in range(len(rr_agent0_dict[\"agent_id\"]))]\n",
    "rr_agent1_points = [i for i in range(len(rr_agent1_dict[\"agent_id\"]))]\n",
    "plt.plot(rr_agent0_points, rr_agent0_dict[\"throttle\"].values())\n",
    "plt.plot(rr_agent1_points, rr_agent1_dict[\"throttle\"].values(), alpha=0.7)\n",
    "plt.show()"
   ]
  },
  {
   "cell_type": "code",
   "execution_count": 10,
   "metadata": {},
   "outputs": [
    {
     "data": {
      "application/vnd.jupyter.widget-view+json": {
       "model_id": "b1eccd5ce69248fdb7980e1867b06dd1",
       "version_major": 2,
       "version_minor": 0
      },
      "text/plain": [
       "Canvas(toolbar=Toolbar(toolitems=[('Home', 'Reset original view', 'home', 'home'), ('Back', 'Back to previous …"
      ]
     },
     "metadata": {},
     "output_type": "display_data"
    }
   ],
   "source": [
    "# brake\n",
    "plt.figure(dpi=100, figsize=(10, 5))\n",
    "rr_agent0_points = [i for i in range(len(rr_agent0_dict[\"agent_id\"]))]\n",
    "rr_agent1_points = [i for i in range(len(rr_agent1_dict[\"agent_id\"]))]\n",
    "plt.plot(rr_agent0_points, rr_agent0_dict[\"brake\"].values())\n",
    "plt.plot(rr_agent1_points, rr_agent1_dict[\"brake\"].values(), alpha=0.7)\n",
    "plt.show()"
   ]
  },
  {
   "cell_type": "markdown",
   "metadata": {},
   "source": [
    "### Consistency between using one agent verses two"
   ]
  },
  {
   "cell_type": "code",
   "execution_count": 11,
   "metadata": {},
   "outputs": [],
   "source": [
    "single_ads_dict = single_ads_df.to_dict()\n",
    "rr_ads_dict = rr_ads_df.to_dict()"
   ]
  },
  {
   "cell_type": "code",
   "execution_count": 12,
   "metadata": {},
   "outputs": [
    {
     "data": {
      "application/vnd.jupyter.widget-view+json": {
       "model_id": "ff4ee19ee27b473baaaf5f6849a70766",
       "version_major": 2,
       "version_minor": 0
      },
      "text/plain": [
       "Canvas(toolbar=Toolbar(toolitems=[('Home', 'Reset original view', 'home', 'home'), ('Back', 'Back to previous …"
      ]
     },
     "metadata": {},
     "output_type": "display_data"
    }
   ],
   "source": [
    "# steering\n",
    "plt.figure(dpi=100, figsize=(10, 5))\n",
    "single_agent_points = [i for i in range(len(single_ads_dict[\"agent_id\"]))]\n",
    "dual_agent_points = [i for i in range(len(rr_ads_dict[\"agent_id\"]))]\n",
    "plt.plot(single_agent_points, single_ads_dict[\"steer\"].values())\n",
    "plt.plot(dual_agent_points, rr_ads_dict[\"steer\"].values(), alpha=0.7)\n",
    "plt.show()"
   ]
  },
  {
   "cell_type": "code",
   "execution_count": 13,
   "metadata": {},
   "outputs": [
    {
     "data": {
      "application/vnd.jupyter.widget-view+json": {
       "model_id": "9a75f3c9912f49aaac1a97cc4e6f909e",
       "version_major": 2,
       "version_minor": 0
      },
      "text/plain": [
       "Canvas(toolbar=Toolbar(toolitems=[('Home', 'Reset original view', 'home', 'home'), ('Back', 'Back to previous …"
      ]
     },
     "metadata": {},
     "output_type": "display_data"
    }
   ],
   "source": [
    "# throttle\n",
    "plt.figure(dpi=100, figsize=(10, 5))\n",
    "single_agent_points = [i for i in range(len(single_ads_dict[\"agent_id\"]))]\n",
    "dual_agent_points = [i for i in range(len(rr_ads_dict[\"agent_id\"]))]\n",
    "plt.plot(single_agent_points, single_ads_dict[\"throttle\"].values())\n",
    "plt.plot(dual_agent_points, rr_ads_dict[\"throttle\"].values(), alpha=0.7)\n",
    "plt.show()"
   ]
  },
  {
   "cell_type": "code",
   "execution_count": 14,
   "metadata": {},
   "outputs": [
    {
     "data": {
      "application/vnd.jupyter.widget-view+json": {
       "model_id": "e977d0eff8834599847d0dad8d649fb0",
       "version_major": 2,
       "version_minor": 0
      },
      "text/plain": [
       "Canvas(toolbar=Toolbar(toolitems=[('Home', 'Reset original view', 'home', 'home'), ('Back', 'Back to previous …"
      ]
     },
     "metadata": {},
     "output_type": "display_data"
    }
   ],
   "source": [
    "# brake\n",
    "plt.figure(dpi=100, figsize=(10, 5))\n",
    "single_agent_points = [i for i in range(len(single_ads_dict[\"agent_id\"]))]\n",
    "dual_agent_points = [i for i in range(len(rr_ads_dict[\"agent_id\"]))]\n",
    "plt.plot(single_agent_points, single_ads_dict[\"brake\"].values())\n",
    "plt.plot(dual_agent_points, rr_ads_dict[\"brake\"].values(), alpha=0.7)\n",
    "plt.show()"
   ]
  },
  {
   "cell_type": "markdown",
   "metadata": {},
   "source": [
    "### Route 42 is mainly highway driving"
   ]
  },
  {
   "cell_type": "code",
   "execution_count": 15,
   "metadata": {},
   "outputs": [],
   "source": [
    "single_ads = \"/home/sheng/Workspace/diverseAV/agents/2020_CARLA_challenge/control_logs_rr_mode/routes_training-route_42-20201103-032130_single.csv\"\n",
    "rr_ads = \"/home/sheng/Workspace/diverseAV/agents/2020_CARLA_challenge/control_logs_rr_mode/routes_training-route_42-20201103-035901_dual.csv\""
   ]
  },
  {
   "cell_type": "code",
   "execution_count": 16,
   "metadata": {},
   "outputs": [],
   "source": [
    "single_ads_df = pd.read_csv(single_ads)\n",
    "rr_ads_df = pd.read_csv(rr_ads)"
   ]
  },
  {
   "cell_type": "markdown",
   "metadata": {},
   "source": [
    "### Consistency between two agents in RR mode"
   ]
  },
  {
   "cell_type": "code",
   "execution_count": 17,
   "metadata": {},
   "outputs": [],
   "source": [
    "rr_agent0_dict = (rr_ads_df[rr_ads_df['agent_id'] == 0]).to_dict()\n",
    "rr_agent1_dict = (rr_ads_df[rr_ads_df['agent_id'] == 1]).to_dict()"
   ]
  },
  {
   "cell_type": "code",
   "execution_count": 18,
   "metadata": {},
   "outputs": [
    {
     "data": {
      "application/vnd.jupyter.widget-view+json": {
       "model_id": "773b1f82a43a4b3db93246c831f28f1a",
       "version_major": 2,
       "version_minor": 0
      },
      "text/plain": [
       "Canvas(toolbar=Toolbar(toolitems=[('Home', 'Reset original view', 'home', 'home'), ('Back', 'Back to previous …"
      ]
     },
     "metadata": {},
     "output_type": "display_data"
    }
   ],
   "source": [
    "# steering\n",
    "plt.figure(dpi=100, figsize=(10, 5))\n",
    "rr_agent0_points = [i for i in range(len(rr_agent0_dict[\"agent_id\"]))]\n",
    "rr_agent1_points = [i for i in range(len(rr_agent1_dict[\"agent_id\"]))]\n",
    "plt.plot(rr_agent0_points, rr_agent0_dict[\"steer\"].values())\n",
    "plt.plot(rr_agent1_points, rr_agent1_dict[\"steer\"].values(), alpha=0.7)\n",
    "plt.show()"
   ]
  },
  {
   "cell_type": "code",
   "execution_count": 19,
   "metadata": {},
   "outputs": [
    {
     "data": {
      "application/vnd.jupyter.widget-view+json": {
       "model_id": "3683cbae375046f89550e24b691e1973",
       "version_major": 2,
       "version_minor": 0
      },
      "text/plain": [
       "Canvas(toolbar=Toolbar(toolitems=[('Home', 'Reset original view', 'home', 'home'), ('Back', 'Back to previous …"
      ]
     },
     "metadata": {},
     "output_type": "display_data"
    }
   ],
   "source": [
    "# throttle\n",
    "plt.figure(dpi=100, figsize=(10, 5))\n",
    "rr_agent0_points = [i for i in range(len(rr_agent0_dict[\"agent_id\"]))]\n",
    "rr_agent1_points = [i for i in range(len(rr_agent1_dict[\"agent_id\"]))]\n",
    "plt.plot(rr_agent0_points, rr_agent0_dict[\"throttle\"].values())\n",
    "plt.plot(rr_agent1_points, rr_agent1_dict[\"throttle\"].values(), alpha=0.7)\n",
    "plt.show()"
   ]
  },
  {
   "cell_type": "code",
   "execution_count": 20,
   "metadata": {},
   "outputs": [
    {
     "data": {
      "application/vnd.jupyter.widget-view+json": {
       "model_id": "4745253f38fe4a20b81bdb0f5d5bde28",
       "version_major": 2,
       "version_minor": 0
      },
      "text/plain": [
       "Canvas(toolbar=Toolbar(toolitems=[('Home', 'Reset original view', 'home', 'home'), ('Back', 'Back to previous …"
      ]
     },
     "metadata": {},
     "output_type": "display_data"
    }
   ],
   "source": [
    "# brake\n",
    "plt.figure(dpi=100, figsize=(10, 5))\n",
    "rr_agent0_points = [i for i in range(len(rr_agent0_dict[\"agent_id\"]))]\n",
    "rr_agent1_points = [i for i in range(len(rr_agent1_dict[\"agent_id\"]))]\n",
    "plt.plot(rr_agent0_points, rr_agent0_dict[\"brake\"].values())\n",
    "plt.plot(rr_agent1_points, rr_agent1_dict[\"brake\"].values(), alpha=0.7)\n",
    "plt.show()"
   ]
  },
  {
   "cell_type": "markdown",
   "metadata": {},
   "source": [
    "### Consistency between using one agent verses two"
   ]
  },
  {
   "cell_type": "code",
   "execution_count": 21,
   "metadata": {},
   "outputs": [],
   "source": [
    "single_ads_dict = single_ads_df.to_dict()\n",
    "rr_ads_dict = rr_ads_df.to_dict()"
   ]
  },
  {
   "cell_type": "code",
   "execution_count": 22,
   "metadata": {},
   "outputs": [
    {
     "data": {
      "application/vnd.jupyter.widget-view+json": {
       "model_id": "746f9cf1a932499ab8a2625586c65085",
       "version_major": 2,
       "version_minor": 0
      },
      "text/plain": [
       "Canvas(toolbar=Toolbar(toolitems=[('Home', 'Reset original view', 'home', 'home'), ('Back', 'Back to previous …"
      ]
     },
     "metadata": {},
     "output_type": "display_data"
    }
   ],
   "source": [
    "# steering\n",
    "plt.figure(dpi=100, figsize=(10, 5))\n",
    "single_agent_points = [i for i in range(len(single_ads_dict[\"agent_id\"]))]\n",
    "dual_agent_points = [i for i in range(len(rr_ads_dict[\"agent_id\"]))]\n",
    "plt.plot(single_agent_points, single_ads_dict[\"steer\"].values())\n",
    "plt.plot(dual_agent_points, rr_ads_dict[\"steer\"].values(), alpha=0.7)\n",
    "plt.show()"
   ]
  },
  {
   "cell_type": "code",
   "execution_count": 23,
   "metadata": {},
   "outputs": [
    {
     "data": {
      "application/vnd.jupyter.widget-view+json": {
       "model_id": "f6071a0bd3a44a19bafe0caae9e23fc5",
       "version_major": 2,
       "version_minor": 0
      },
      "text/plain": [
       "Canvas(toolbar=Toolbar(toolitems=[('Home', 'Reset original view', 'home', 'home'), ('Back', 'Back to previous …"
      ]
     },
     "metadata": {},
     "output_type": "display_data"
    }
   ],
   "source": [
    "# throttle\n",
    "plt.figure(dpi=100, figsize=(10, 5))\n",
    "single_agent_points = [i for i in range(len(single_ads_dict[\"agent_id\"]))]\n",
    "dual_agent_points = [i for i in range(len(rr_ads_dict[\"agent_id\"]))]\n",
    "plt.plot(single_agent_points, single_ads_dict[\"throttle\"].values())\n",
    "plt.plot(dual_agent_points, rr_ads_dict[\"throttle\"].values(), alpha=0.7)\n",
    "plt.show()"
   ]
  },
  {
   "cell_type": "code",
   "execution_count": 24,
   "metadata": {},
   "outputs": [
    {
     "data": {
      "application/vnd.jupyter.widget-view+json": {
       "model_id": "3c4fb5c0a125460f8b51b5cf2bf70331",
       "version_major": 2,
       "version_minor": 0
      },
      "text/plain": [
       "Canvas(toolbar=Toolbar(toolitems=[('Home', 'Reset original view', 'home', 'home'), ('Back', 'Back to previous …"
      ]
     },
     "metadata": {},
     "output_type": "display_data"
    }
   ],
   "source": [
    "# brake\n",
    "plt.figure(dpi=100, figsize=(10, 5))\n",
    "single_agent_points = [i for i in range(len(single_ads_dict[\"agent_id\"]))]\n",
    "dual_agent_points = [i for i in range(len(rr_ads_dict[\"agent_id\"]))]\n",
    "plt.plot(single_agent_points, single_ads_dict[\"brake\"].values())\n",
    "plt.plot(dual_agent_points, rr_ads_dict[\"brake\"].values(), alpha=0.7)\n",
    "plt.show()"
   ]
  },
  {
   "cell_type": "markdown",
   "metadata": {},
   "source": [
    "### Route 02 is mostly urban driving"
   ]
  },
  {
   "cell_type": "code",
   "execution_count": 25,
   "metadata": {},
   "outputs": [],
   "source": [
    "single_ads = \"/home/sheng/Workspace/diverseAV/agents/2020_CARLA_challenge/control_logs_rr_mode/routes_training-route_02-20201103-183944_single.csv\"\n",
    "rr_ads = \"/home/sheng/Workspace/diverseAV/agents/2020_CARLA_challenge/control_logs_rr_mode/routes_training-route_02-20201103-191807_dual.csv\""
   ]
  },
  {
   "cell_type": "code",
   "execution_count": 26,
   "metadata": {},
   "outputs": [],
   "source": [
    "single_ads_df = pd.read_csv(single_ads)\n",
    "rr_ads_df = pd.read_csv(rr_ads)"
   ]
  },
  {
   "cell_type": "markdown",
   "metadata": {},
   "source": [
    "### Consistency between two agents in RR mode"
   ]
  },
  {
   "cell_type": "code",
   "execution_count": 27,
   "metadata": {},
   "outputs": [],
   "source": [
    "rr_agent0_dict = (rr_ads_df[rr_ads_df['agent_id'] == 0]).to_dict()\n",
    "rr_agent1_dict = (rr_ads_df[rr_ads_df['agent_id'] == 1]).to_dict()"
   ]
  },
  {
   "cell_type": "code",
   "execution_count": 28,
   "metadata": {},
   "outputs": [
    {
     "data": {
      "application/vnd.jupyter.widget-view+json": {
       "model_id": "9ced729317f84f7e8e2c1edcfdd5e776",
       "version_major": 2,
       "version_minor": 0
      },
      "text/plain": [
       "Canvas(toolbar=Toolbar(toolitems=[('Home', 'Reset original view', 'home', 'home'), ('Back', 'Back to previous …"
      ]
     },
     "metadata": {},
     "output_type": "display_data"
    }
   ],
   "source": [
    "# steering\n",
    "plt.figure(dpi=100, figsize=(10, 5))\n",
    "rr_agent0_points = [i for i in range(len(rr_agent0_dict[\"agent_id\"]))]\n",
    "rr_agent1_points = [i for i in range(len(rr_agent1_dict[\"agent_id\"]))]\n",
    "plt.plot(rr_agent0_points, rr_agent0_dict[\"steer\"].values())\n",
    "plt.plot(rr_agent1_points, rr_agent1_dict[\"steer\"].values(), alpha=0.7)\n",
    "plt.show()"
   ]
  },
  {
   "cell_type": "code",
   "execution_count": 29,
   "metadata": {},
   "outputs": [
    {
     "data": {
      "application/vnd.jupyter.widget-view+json": {
       "model_id": "edf97b970d314fab95b1c864c5ad82c2",
       "version_major": 2,
       "version_minor": 0
      },
      "text/plain": [
       "Canvas(toolbar=Toolbar(toolitems=[('Home', 'Reset original view', 'home', 'home'), ('Back', 'Back to previous …"
      ]
     },
     "metadata": {},
     "output_type": "display_data"
    }
   ],
   "source": [
    "# throttle\n",
    "plt.figure(dpi=100, figsize=(10, 5))\n",
    "rr_agent0_points = [i for i in range(len(rr_agent0_dict[\"agent_id\"]))]\n",
    "rr_agent1_points = [i for i in range(len(rr_agent1_dict[\"agent_id\"]))]\n",
    "plt.plot(rr_agent0_points, rr_agent0_dict[\"throttle\"].values())\n",
    "plt.plot(rr_agent1_points, rr_agent1_dict[\"throttle\"].values(), alpha=0.7)\n",
    "plt.show()"
   ]
  },
  {
   "cell_type": "code",
   "execution_count": 30,
   "metadata": {},
   "outputs": [
    {
     "data": {
      "application/vnd.jupyter.widget-view+json": {
       "model_id": "b0182db7edd84155a80d1562f142eb94",
       "version_major": 2,
       "version_minor": 0
      },
      "text/plain": [
       "Canvas(toolbar=Toolbar(toolitems=[('Home', 'Reset original view', 'home', 'home'), ('Back', 'Back to previous …"
      ]
     },
     "metadata": {},
     "output_type": "display_data"
    }
   ],
   "source": [
    "# brake\n",
    "plt.figure(dpi=100, figsize=(10, 5))\n",
    "rr_agent0_points = [i for i in range(len(rr_agent0_dict[\"agent_id\"]))]\n",
    "rr_agent1_points = [i for i in range(len(rr_agent1_dict[\"agent_id\"]))]\n",
    "plt.plot(rr_agent0_points, rr_agent0_dict[\"brake\"].values())\n",
    "plt.plot(rr_agent1_points, rr_agent1_dict[\"brake\"].values(), alpha=0.7)\n",
    "plt.show()"
   ]
  },
  {
   "cell_type": "markdown",
   "metadata": {},
   "source": [
    "### Consistency between using one agent verses two"
   ]
  },
  {
   "cell_type": "code",
   "execution_count": 31,
   "metadata": {},
   "outputs": [],
   "source": [
    "single_ads_dict = single_ads_df.to_dict()\n",
    "rr_ads_dict = rr_ads_df.to_dict()"
   ]
  },
  {
   "cell_type": "code",
   "execution_count": 32,
   "metadata": {},
   "outputs": [
    {
     "data": {
      "application/vnd.jupyter.widget-view+json": {
       "model_id": "6708391701df479d88d4eabe9cfd9cc5",
       "version_major": 2,
       "version_minor": 0
      },
      "text/plain": [
       "Canvas(toolbar=Toolbar(toolitems=[('Home', 'Reset original view', 'home', 'home'), ('Back', 'Back to previous …"
      ]
     },
     "metadata": {},
     "output_type": "display_data"
    }
   ],
   "source": [
    "# steering\n",
    "plt.figure(dpi=100, figsize=(10, 5))\n",
    "single_agent_points = [i for i in range(len(single_ads_dict[\"agent_id\"]))]\n",
    "dual_agent_points = [i for i in range(len(rr_ads_dict[\"agent_id\"]))]\n",
    "plt.plot(single_agent_points, single_ads_dict[\"steer\"].values())\n",
    "plt.plot(dual_agent_points, rr_ads_dict[\"steer\"].values(), alpha=0.7)\n",
    "plt.show()"
   ]
  },
  {
   "cell_type": "code",
   "execution_count": 33,
   "metadata": {},
   "outputs": [
    {
     "data": {
      "application/vnd.jupyter.widget-view+json": {
       "model_id": "03a90997bbc04261a0f046291ba43764",
       "version_major": 2,
       "version_minor": 0
      },
      "text/plain": [
       "Canvas(toolbar=Toolbar(toolitems=[('Home', 'Reset original view', 'home', 'home'), ('Back', 'Back to previous …"
      ]
     },
     "metadata": {},
     "output_type": "display_data"
    }
   ],
   "source": [
    "# throttle\n",
    "plt.figure(dpi=100, figsize=(10, 5))\n",
    "single_agent_points = [i for i in range(len(single_ads_dict[\"agent_id\"]))]\n",
    "dual_agent_points = [i for i in range(len(rr_ads_dict[\"agent_id\"]))]\n",
    "plt.plot(single_agent_points, single_ads_dict[\"throttle\"].values())\n",
    "plt.plot(dual_agent_points, rr_ads_dict[\"throttle\"].values(), alpha=0.7)\n",
    "plt.show()"
   ]
  },
  {
   "cell_type": "code",
   "execution_count": 34,
   "metadata": {},
   "outputs": [
    {
     "data": {
      "application/vnd.jupyter.widget-view+json": {
       "model_id": "3fdbdd617fc84b0e91ce21e255598919",
       "version_major": 2,
       "version_minor": 0
      },
      "text/plain": [
       "Canvas(toolbar=Toolbar(toolitems=[('Home', 'Reset original view', 'home', 'home'), ('Back', 'Back to previous …"
      ]
     },
     "metadata": {},
     "output_type": "display_data"
    }
   ],
   "source": [
    "# brake\n",
    "plt.figure(dpi=100, figsize=(10, 5))\n",
    "single_agent_points = [i for i in range(len(single_ads_dict[\"agent_id\"]))]\n",
    "dual_agent_points = [i for i in range(len(rr_ads_dict[\"agent_id\"]))]\n",
    "plt.plot(single_agent_points, single_ads_dict[\"brake\"].values())\n",
    "plt.plot(dual_agent_points, rr_ads_dict[\"brake\"].values(), alpha=0.7)\n",
    "plt.show()"
   ]
  },
  {
   "cell_type": "code",
   "execution_count": null,
   "metadata": {},
   "outputs": [],
   "source": []
  }
 ],
 "metadata": {
  "kernelspec": {
   "display_name": "Python 3",
   "language": "python",
   "name": "python3"
  },
  "language_info": {
   "codemirror_mode": {
    "name": "ipython",
    "version": 3
   },
   "file_extension": ".py",
   "mimetype": "text/x-python",
   "name": "python",
   "nbconvert_exporter": "python",
   "pygments_lexer": "ipython3",
   "version": "3.6.9"
  }
 },
 "nbformat": 4,
 "nbformat_minor": 4
}
